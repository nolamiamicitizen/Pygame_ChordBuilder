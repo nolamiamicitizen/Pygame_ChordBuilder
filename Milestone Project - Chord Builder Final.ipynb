{
 "cells": [
  {
   "cell_type": "code",
   "execution_count": 1,
   "metadata": {
    "collapsed": true
   },
   "outputs": [],
   "source": [
    "#Useful Links\n",
    "#Coding Bootcamp class\n",
    "#https://www.udemy.com/complete-python-bootcamp/\n",
    "\n",
    "#Anaconda\n",
    "#https://www.continuum.io/downloads\n",
    "\n",
    "#Jupyter Notebook\n",
    "#http://jupyter.org/\n",
    "\n",
    "#Pygame General Link\n",
    "#http://www.pygame.org/hifi.html\n",
    "\n",
    "#Pygame Music Documentation\n",
    "#http://www.pygame.org/docs/ref/midi.html\n",
    "\n",
    "#Pygame General Download\n",
    "#http://www.pygame.org/download.shtml\n",
    "\n",
    "#Pygame for Python 2 older version (check sys settings for right details)\n",
    "#http://www.lfd.uci.edu/~gohlke/pythonlibs/#pygame\n",
    "\n",
    "#Chord Names and Symbols Wikipedia\n",
    "#https://en.wikipedia.org/wiki/Chord_names_and_symbols_(popular_music)\n",
    "\n",
    "#Example Jazz Song Solar by Miles Davis\n",
    "#https://en.wikipedia.org/wiki/Solar_(composition)"
   ]
  },
  {
   "cell_type": "markdown",
   "metadata": {},
   "source": [
    "import sys"
   ]
  },
  {
   "cell_type": "markdown",
   "metadata": {
    "collapsed": false
   },
   "source": [
    "sys.version"
   ]
  },
  {
   "cell_type": "markdown",
   "metadata": {
    "collapsed": false
   },
   "source": [
    "import winsound\n",
    "Freq = 440 # Set Frequency To 2500 Hertz\n",
    "Dur = 1000 # Set Duration To 1000 ms == 1 second\n",
    "winsound.Beep(Freq,Dur)"
   ]
  },
  {
   "cell_type": "markdown",
   "metadata": {
    "collapsed": false
   },
   "source": [
    "winsound.Beep(150,700)"
   ]
  },
  {
   "cell_type": "code",
   "execution_count": 2,
   "metadata": {
    "collapsed": false
   },
   "outputs": [],
   "source": [
    "import pygame.midi\n",
    "import time\n",
    "from pprint import pprint"
   ]
  },
  {
   "cell_type": "code",
   "execution_count": 3,
   "metadata": {
    "collapsed": false
   },
   "outputs": [],
   "source": [
    "def startplay():\n",
    "    pygame.midi.init()\n",
    "    global player\n",
    "    player = pygame.midi.Output(0)\n",
    "    \n",
    "def endplay():\n",
    "    global player\n",
    "    del player\n",
    "    pygame.midi.quit()"
   ]
  },
  {
   "cell_type": "markdown",
   "metadata": {
    "collapsed": false
   },
   "source": [
    "import pygame.midi\n",
    "import time\n",
    "\n",
    "pygame.midi.init()\n",
    "player = pygame.midi.Output(0)\n",
    "player.set_instrument(53)\n",
    "player.note_on(60, 127)\n",
    "player.note_on(64, 128)\n",
    "player.note_on(67, 128)\n",
    "time.sleep(1)\n",
    "player.note_off(60, 127)\n",
    "player.note_off(64, 128)\n",
    "player.note_off(67, 128)\n",
    "del player\n",
    "pygame.midi.quit()"
   ]
  },
  {
   "cell_type": "markdown",
   "metadata": {
    "collapsed": false
   },
   "source": [
    "pygame.midi.init()\n",
    "player = pygame.midi.Output(0)\n",
    "player.set_instrument(53)\n",
    "\n",
    "for x in xrange(3):\n",
    "    \n",
    "    \n",
    "    \n",
    "    player.note_on(60, 127)\n",
    "    player.note_on(64, 127)\n",
    "    player.note_on(67, 127)\n",
    "    time.sleep(1)\n",
    "    player.note_off(60, 127)\n",
    "    player.note_off(64, 127)\n",
    "    player.note_off(67, 127)\n",
    "\n",
    "    player.note_on(61, 127)\n",
    "    player.note_on(65, 127)\n",
    "    player.note_on(68, 127)\n",
    "    time.sleep(1.5)\n",
    "    player.note_off(61, 127)\n",
    "    player.note_off(65, 127)\n",
    "    player.note_off(68, 127)\n",
    "    x=+1\n",
    "    if x == 3:\n",
    "        break\n",
    "\n",
    "\n",
    "del player\n",
    "pygame.midi.quit()"
   ]
  },
  {
   "cell_type": "markdown",
   "metadata": {
    "collapsed": true
   },
   "source": [
    "def playchordTest(howlong,whichinstrument,note1,note2,note3,note4,note5,working1=127,working2=127,working3=127,working4=127,working5=127):\n",
    "    \n",
    "    #pygame.midi.init()\n",
    "    #player = pygame.midi.Output(0)\n",
    "    player.set_instrument(whichinstrument)\n",
    "    player.note_on(note1, working1)\n",
    "    player.note_on(note2, working2)\n",
    "    player.note_on(note3, working3)\n",
    "    player.note_on(note4, working4)\n",
    "    player.note_on(note5, working5)\n",
    "    time.sleep(howlong)\n",
    "    player.note_off(note1, working3)\n",
    "    player.note_off(note2, working3)\n",
    "    player.note_off(note3, working3)\n",
    "    player.note_off(note4, working4)\n",
    "    player.note_off(note5, working5)\n",
    "    #del player\n",
    "    #pygame.midi.quit()"
   ]
  },
  {
   "cell_type": "markdown",
   "metadata": {
    "collapsed": true
   },
   "source": [
    "#better to wrap chords around midi preparer\n",
    "pygame.midi.init()\n",
    "player = pygame.midi.Output(0)\n",
    "\n",
    "for x in range(3):\n",
    "    #playchordTest(2,11,60,62,67,71,74,127,127,127,127,127)\n",
    "    playchordTest(2,11,65,67,71,76,78,127,127,127,127,127)\n",
    "    x =+1\n",
    "del player\n",
    "pygame.midi.quit()"
   ]
  },
  {
   "cell_type": "markdown",
   "metadata": {
    "collapsed": false
   },
   "source": [
    "#better to wrap chords around midi preparer\n",
    "pygame.midi.init()\n",
    "player = pygame.midi.Output(0)\n",
    "root=91\n",
    "\n",
    "min_3 = root + 3\n",
    "aug_9 = root + 15\n",
    "\n",
    "#0-127 for tones\n",
    "playchordTest(1,11,root,min_3,67,71,aug_9,127,1,1,1,1)\n",
    "\n",
    "\n",
    "del player\n",
    "pygame.midi.quit()"
   ]
  },
  {
   "cell_type": "markdown",
   "metadata": {
    "collapsed": true
   },
   "source": [
    "#middle c is 60\n",
    "#next octave is 72\n"
   ]
  },
  {
   "cell_type": "code",
   "execution_count": 4,
   "metadata": {
    "collapsed": false
   },
   "outputs": [],
   "source": [
    "FlatsDict = {'E':4,'F':5,'Gb':6,'G':7,'Ab':8,'A':9,'Bb':10,'B':11,'C':12,'Db':13,'D':14,'Eb':15}\n",
    "SharpsDict = {'E':4,'F':5,'F#':6,'G':7,'G#':8,'A':9,'A#':10,'B':11,'C':12,'C#':13,'D':14,'D#':15}\n",
    "ThirdDict = {'Min':3,'Maj':4,'P4':5}\n",
    "FifthDict = {'Dim':6,'P5':7,'Aug':8}\n",
    "SevDict = {'Dim':9,'Dom':10,'Maj':11}\n",
    "NinthDict = {'Dim':13,'Dom':14,'Aug':15}\n",
    "\n",
    "SwitchtoFlatsDict = {'E':'E','F':'F','F#':'Gb','Gb':'Gb','G':'G','G#':'Ab','Ab':'Ab','A':'A','A#':'Bb',\n",
    "                     'Bb':'Bb','B':'B','C':'C',\n",
    "                     'C#':'Db','Db':'Db','D':'D','D#':'Eb','Eb':'Eb'}\n",
    "\n",
    "SwitchtoSharpsDict = {'E':'E','F':'F','Gb':'F#','F#':'F#','G':'G','Ab':'G#','G#':'G#','A':'A','Bb':'A#',\n",
    "                      'A#':'A#','B':'B','C':'C',\n",
    "                      'Db':'C#','C#':'C#','D':'D','Eb':'D#','D#':'D#'}"
   ]
  },
  {
   "cell_type": "code",
   "execution_count": 5,
   "metadata": {
    "collapsed": false
   },
   "outputs": [],
   "source": [
    "Chordbe4_9thDict = {'MajAugDim':'6|#5', \n",
    "'MajDimDim':'6|b5', 'MajNoneDim':'6|no 5','MajP5Dim':'6','MinAugDim':'Min6|#5', \n",
    "'MinDimDim':'Min6|b5','MinNoneDim':'Min6|no 5','MinP5Dim':'Min6','NoneAugDim':'Sus6|#5', \n",
    "'NoneDimDim':'Sus6|b5', 'NoneNoneDim':'Sus6|no 5', 'NoneP5Dim':'Sus6', 'P4AugDim':'Sus4|6|#5',\n",
    "'P4DimDim':'Sus4|6|b5','P4NoneDim':'Sus4|6|no 5', 'P4P5Dim':'Sus4|6',     'MajAugDom':'Aug7', \n",
    "'MajDimDom':'7|b5', 'MajNoneDom':'7|no 5', 'MajP5Dom':'7', 'MinAugDom':'Min7|#5', \n",
    "'MinDimDom':'Min7|b5', 'MinNoneDom':'Min7|no 5', 'MinP5Dom':'Min7', 'NoneAugDom':'Sus7|#5', \n",
    "'NoneDimDom':'Sus7|b5', 'NoneNoneDom':'Sus7|no 5', 'NoneP5Dom':'Sus7', 'P4AugDom':'Sus4|7|#5', \n",
    "'P4DimDom':'Sus4|7|b5', 'P4NoneDom':'Sus4|7|no 5', 'P4P5Dom':'Sus4|7', 'MajAugMaj':'Maj7|#5', \n",
    "'MajDimMaj':'Maj7|b5', 'MajNoneMaj':'Maj7|no 5', 'MajP5Maj':'Maj7', 'MinAugMaj':'MinMaj7|#5', \n",
    "'MinDimMaj':'MinMaj7|b5', 'MinNoneMaj':'MinMaj7|no 5','MinP5Maj':'MinMaj7', 'NoneAugMaj':'Maj7Sus|#5',\n",
    "'NoneDimMaj':'Maj7Sus|b5', 'NoneNoneMaj':'Maj7Sus|no 5', 'NoneP5Maj':'Maj7Sus', \n",
    "'P4AugMaj':'Maj7Sus4|#5', 'P4DimMaj':'Maj7Sus4|b5', 'P4NoneMaj':'Maj7Sus4|no 5', 'P4P5Maj':'Maj7Sus4',\n",
    "'MajAugNone':'Aug', 'MajDimNone':'Dim', 'MajNoneNone':'Maj|no 5', 'MajP5None':'Maj', \n",
    "'MinAugNone':'Min|#5', 'MinDimNone':'Dim', 'MinNoneNone':'MinSus', 'MinP5None':'Min', \n",
    "'NoneAugNone':'Sus|#5', 'NoneDimNone':'Sus|b5', 'NoneNoneNone':'', 'NoneP5None':'P5', \n",
    "'P4AugNone':'Sus4|#5', 'P4DimNone':'Sus4|b5', 'P4NoneNone':'P4', 'P4P5None':'Sus4'}\n"
   ]
  },
  {
   "cell_type": "code",
   "execution_count": 6,
   "metadata": {
    "collapsed": true
   },
   "outputs": [],
   "source": [
    "NinerTextDict = {'Dim':'|b9','Dom':'|9','Aug':'|#9','None':''}"
   ]
  },
  {
   "cell_type": "code",
   "execution_count": 7,
   "metadata": {
    "collapsed": false
   },
   "outputs": [
    {
     "data": {
      "text/plain": [
       "'|9'"
      ]
     },
     "execution_count": 7,
     "metadata": {},
     "output_type": "execute_result"
    }
   ],
   "source": [
    "NinerTextDict.get('Dom')"
   ]
  },
  {
   "cell_type": "code",
   "execution_count": 8,
   "metadata": {
    "collapsed": true
   },
   "outputs": [],
   "source": [
    "class Chord(object):\n",
    "    def __init__(self,ChordTime,RangeLevel,Root,Third,Fifth,Sev,Ninth,Associated_Progression='None'):\n",
    "        self.ChordTime = ChordTime\n",
    "        self.RangeLevel = RangeLevel\n",
    "        self.Root = Root\n",
    "        self.Third = Third\n",
    "        self.Fifth = Fifth\n",
    "        self.Sev = Sev\n",
    "        self.Ninth = Ninth\n",
    "        self.Associated_Progression = Associated_Progression\n",
    "        \n",
    "    \n",
    "        if Root[-1] == '#':\n",
    "            self.RootNum = SharpsDict.get(self.Root) + RangeLevel*12\n",
    "        else:\n",
    "            self.RootNum = FlatsDict.get(self.Root) + RangeLevel*12\n",
    "        \n",
    "        self.RootOn = 127\n",
    "        \n",
    "    \n",
    "        if self.Third <> 'None':\n",
    "            self.ThirdNum = ThirdDict.get(self.Third) + self.RootNum\n",
    "            self.ThirdOn = 127\n",
    "        else:\n",
    "            self.ThirdNum = 0\n",
    "            self.ThirdOn = 1\n",
    "            \n",
    "        \n",
    "        if self.Fifth <> 'None':\n",
    "            self.FifthNum = FifthDict.get(self.Fifth) + self.RootNum\n",
    "            self.FifthON = 127\n",
    "        else:\n",
    "            self.FifthNum = 0\n",
    "            self.FifthON = 1\n",
    "        \n",
    "        \n",
    "        if self.Sev <> 'None':\n",
    "            self.SevNum = SevDict.get(self.Sev) + self.RootNum\n",
    "            self.SevOn = 127\n",
    "        else:\n",
    "            self.SevNum = 0\n",
    "            self.SevOn = 1\n",
    "        \n",
    "        \n",
    "        if self.Ninth <> 'None':\n",
    "            self.NinthNum = NinthDict.get(self.Ninth) + self.RootNum\n",
    "            self.NinthOn = 127\n",
    "        else:\n",
    "            self.NinthNum = 0\n",
    "            self.NinthOn = 1\n",
    "            \n",
    "        self.NoteConcatno9 = self.Third+self.Fifth+self.Sev\n",
    "        self.ChordName =  self.Root+Chordbe4_9thDict.get(self.NoteConcatno9)+NinerTextDict.get(self.Ninth)\n",
    "            \n",
    "    def PlayChord(self):         \n",
    "        player.set_instrument(Instrument_Chosen)\n",
    "        player.note_on(self.RootNum, self.RootOn)\n",
    "        player.note_on(self.ThirdNum, self.ThirdOn)\n",
    "        player.note_on(self.FifthNum, self.FifthON)\n",
    "        player.note_on(self.SevNum, self.SevOn)\n",
    "        player.note_on(self.NinthNum, self.NinthOn)\n",
    "        \n",
    "        if self.Associated_Progression <> 'None':\n",
    "            time.sleep(self.ChordTime*self.Associated_Progression.BaseTimeInterval)\n",
    "        else:\n",
    "            time.sleep(self.ChordTime)\n",
    "        player.note_off(self.RootNum,self.RootOn)\n",
    "        player.note_off(self.ThirdNum,self.ThirdOn)\n",
    "        player.note_off(self.FifthNum, self.FifthON)\n",
    "        player.note_off(self.SevNum, self.SevOn)\n",
    "        player.note_off(self.NinthNum, self.NinthOn)\n",
    "        \n",
    "    \n",
    "        "
   ]
  },
  {
   "cell_type": "code",
   "execution_count": 9,
   "metadata": {
    "collapsed": true
   },
   "outputs": [],
   "source": [
    "Instrument_Chosen = 11\n"
   ]
  },
  {
   "cell_type": "code",
   "execution_count": 10,
   "metadata": {
    "collapsed": false
   },
   "outputs": [],
   "source": [
    "#DaTestChord = Chord(1,5,'Gb','Maj','P5','Maj','Dom')\n",
    "#DaOddaTestChord = Chord(1,4,'C','Min','P5','Dom','Dom')\n",
    "DaTestChord = Chord(1,5,'C','Maj','P5','None','None')"
   ]
  },
  {
   "cell_type": "code",
   "execution_count": 11,
   "metadata": {
    "collapsed": false
   },
   "outputs": [
    {
     "data": {
      "text/plain": [
       "'CMaj'"
      ]
     },
     "execution_count": 11,
     "metadata": {},
     "output_type": "execute_result"
    }
   ],
   "source": [
    "DaTestChord.ChordName"
   ]
  },
  {
   "cell_type": "code",
   "execution_count": 12,
   "metadata": {
    "collapsed": false
   },
   "outputs": [
    {
     "name": "stdout",
     "output_type": "stream",
     "text": [
      "C\n"
     ]
    }
   ],
   "source": [
    "print DaTestChord.Root"
   ]
  },
  {
   "cell_type": "markdown",
   "metadata": {
    "collapsed": false
   },
   "source": [
    "pygame.midi.init()\n",
    "player = pygame.midi.Output(0)\n",
    "\n",
    "DaTestChord.PlayChord()\n",
    "DaOddaTestChord.PlayChord()\n",
    "\n",
    "del player\n",
    "pygame.midi.quit()"
   ]
  },
  {
   "cell_type": "code",
   "execution_count": 13,
   "metadata": {
    "collapsed": false
   },
   "outputs": [],
   "source": [
    "class ChordProgression(object):\n",
    "    def __init__(self, Name,BaseTimeInterval,ChordList=[],how_many_plays=1):\n",
    "        self.Name = Name\n",
    "        #self.Sharps_or_Flats = Sharps_or_Flats\n",
    "        self.BaseTimeInterval = BaseTimeInterval\n",
    "        self.ChordList = ChordList\n",
    "        self.how_many_plays = how_many_plays\n",
    "    \n",
    "    def AddChordtoProgression(self,section,Chord):\n",
    "        Chord.Associated_Progression = self\n",
    "        self.ChordList.insert(section+1,Chord)\n",
    "    \n",
    "    def RemoveChordFromProgression(self,section):\n",
    "        Chord.Associated_Progression = self\n",
    "        del self.ChordList[section]\n",
    "        #del arr[2]\n",
    "    \n",
    "    def Playchordprogression(self):\n",
    "        \n",
    "        for x in range(0, self.how_many_plays):\n",
    "            for Chord in self.ChordList:\n",
    "                Chord.PlayChord()"
   ]
  },
  {
   "cell_type": "code",
   "execution_count": 14,
   "metadata": {
    "collapsed": false
   },
   "outputs": [],
   "source": [
    "global FineChordChanges\n",
    "FineChordChanges = ChordProgression(\"So Fine\",1,[],1)"
   ]
  },
  {
   "cell_type": "code",
   "execution_count": 15,
   "metadata": {
    "collapsed": false
   },
   "outputs": [
    {
     "data": {
      "text/plain": [
       "[]"
      ]
     },
     "execution_count": 15,
     "metadata": {},
     "output_type": "execute_result"
    }
   ],
   "source": [
    "FineChordChanges.ChordList"
   ]
  },
  {
   "cell_type": "code",
   "execution_count": 16,
   "metadata": {
    "collapsed": false
   },
   "outputs": [],
   "source": [
    "FineChordChanges.AddChordtoProgression(1,DaTestChord)\n",
    "#FineChordChanges.AddChordtoProgression(1,DaOddaTestChord)"
   ]
  },
  {
   "cell_type": "markdown",
   "metadata": {
    "collapsed": false
   },
   "source": [
    "del FineChordChanges.ChordList[1]"
   ]
  },
  {
   "cell_type": "code",
   "execution_count": 17,
   "metadata": {
    "collapsed": false
   },
   "outputs": [
    {
     "data": {
      "text/plain": [
       "[<__main__.Chord at 0x427bf60>]"
      ]
     },
     "execution_count": 17,
     "metadata": {},
     "output_type": "execute_result"
    }
   ],
   "source": [
    "FineChordChanges.ChordList"
   ]
  },
  {
   "cell_type": "code",
   "execution_count": 18,
   "metadata": {
    "collapsed": false
   },
   "outputs": [],
   "source": [
    "#FineChordChanges.RemoveChordFromProgression(1)"
   ]
  },
  {
   "cell_type": "markdown",
   "metadata": {
    "collapsed": false
   },
   "source": [
    "startplay()\n",
    "\n",
    "FineChordChanges.Playchordprogression()\n",
    "\n",
    "endplay()"
   ]
  },
  {
   "cell_type": "markdown",
   "metadata": {
    "collapsed": false
   },
   "source": [
    "del player\n",
    "pygame.midi.quit()"
   ]
  },
  {
   "cell_type": "code",
   "execution_count": 19,
   "metadata": {
    "collapsed": false
   },
   "outputs": [
    {
     "data": {
      "text/plain": [
       "'So Fine'"
      ]
     },
     "execution_count": 19,
     "metadata": {},
     "output_type": "execute_result"
    }
   ],
   "source": [
    "DaTestChord.Associated_Progression.Name"
   ]
  },
  {
   "cell_type": "code",
   "execution_count": 20,
   "metadata": {
    "collapsed": true
   },
   "outputs": [],
   "source": [
    "from ipywidgets import *\n",
    "from IPython.display import display\n",
    "import ipywidgets as widgets"
   ]
  },
  {
   "cell_type": "code",
   "execution_count": 21,
   "metadata": {
    "collapsed": true
   },
   "outputs": [],
   "source": [
    "#linking attributes together\n",
    "import traitlets"
   ]
  },
  {
   "cell_type": "code",
   "execution_count": 22,
   "metadata": {
    "collapsed": true
   },
   "outputs": [],
   "source": [
    "from IPython.display import display\n"
   ]
  },
  {
   "cell_type": "markdown",
   "metadata": {},
   "source": [
    "# GUI"
   ]
  },
  {
   "cell_type": "code",
   "execution_count": 23,
   "metadata": {
    "collapsed": true
   },
   "outputs": [],
   "source": [
    "FlatsDropList = ['E','F','Gb','G','Ab','A','Bb','B','C','Db','D','Eb']\n",
    "SharpsDropList = ['E','F','F#','G','G#','A','A#','B','C','C#','D','D#']"
   ]
  },
  {
   "cell_type": "code",
   "execution_count": 24,
   "metadata": {
    "collapsed": true
   },
   "outputs": [],
   "source": [
    "def flat_sharp_first_display():\n",
    "    if SFButtons.value == '#':\n",
    "        return SharpsDropList\n",
    "    else:\n",
    "        return FlatsDropList\n",
    "    "
   ]
  },
  {
   "cell_type": "code",
   "execution_count": 25,
   "metadata": {
    "collapsed": false
   },
   "outputs": [],
   "source": [
    "GeneralSettingsText = widgets.HTML(value = \"General:  <br><br>\",font_family = \"Helvetica\",font_size = 20) \n",
    "ChordBuilderText = widgets.HTML(value = \"Chord:  <br><br>\",font_family = \"Helvetica\",font_size = 20)\n",
    "ChordProgressionText = widgets.HTML(value = \"Progression:  <br><br>\",font_family = \"Helvetica\",font_size = 20)\n",
    "\n",
    "SFButtons = widgets.ToggleButtons(\n",
    "    description='Sharps/Flats',\n",
    "    options=['#','b'],\n",
    "    value='b')\n",
    "\n",
    "ChoseInstrument = widgets.IntSlider(\n",
    "    value=0,\n",
    "    min=0,\n",
    "    max=127,\n",
    "    description='Instrument (0-127)',)\n",
    "Instrument_Chosen = ChoseInstrument.value\n",
    "\n",
    "def update_ChoseInstrument(*args):\n",
    "    global Instrument_Chosen\n",
    "    Instrument_Chosen = ChoseInstrument.value\n",
    "ChoseInstrument.observe(update_ChoseInstrument,'value')\n",
    "\n",
    "OctaveChoice_ChordBuild = widgets.IntSlider(\n",
    "    value=4,\n",
    "    min=1,\n",
    "    max=9,\n",
    "    description='Chord Octave: (1-9)',)\n",
    "\n",
    "GeneralSettingsBox = widgets.Box(children=[GeneralSettingsText,SFButtons,ChoseInstrument])\n",
    "GeneralSettingsBox.border_color = '#77BFC7'\n",
    "GeneralSettingsBox.border_style = 'solid'\n",
    "GeneralSettingsBox.border_width = 3 \n",
    "\n",
    "NoteList = widgets.Dropdown(\n",
    "            options = flat_sharp_first_display(),\n",
    "            value='C',\n",
    "            description='Root:',\n",
    "            disabled=False,\n",
    "            button_style='' # 'success', 'info', 'warning', 'danger' or ''\n",
    "            )\n",
    "\n",
    "#def on_SFButtons_toggle(name,value):\n",
    "def update_SFButtons(*args):\n",
    "    if SFButtons.value == '#':\n",
    "        original_index = NoteList.options.index(NoteList.value)\n",
    "        NoteList.options = SharpsDropList\n",
    "        NoteList.value = SharpsDropList[original_index]\n",
    "        for ChordIndexer in FineChordChanges.ChordList:\n",
    "            ChordIndexer.Root = str(SwitchtoSharpsDict.get(ChordIndexer.Root))\n",
    "            ChordIndexer.ChordName =  ChordIndexer.Root+Chordbe4_9thDict.get(ChordIndexer.NoteConcatno9)+NinerTextDict.get(ChordIndexer.Ninth)\n",
    "        #update_idletasks\n",
    "    if SFButtons.value == 'b':\n",
    "        original_index = NoteList.options.index(NoteList.value)\n",
    "        NoteList.options = FlatsDropList\n",
    "        NoteList.value = FlatsDropList[original_index]\n",
    "        for ChordIndexer in FineChordChanges.ChordList:\n",
    "            ChordIndexer.Root = str(SwitchtoFlatsDict.get(ChordIndexer.Root))\n",
    "            ChordIndexer.ChordName =  ChordIndexer.Root+Chordbe4_9thDict.get(ChordIndexer.NoteConcatno9)+NinerTextDict.get(ChordIndexer.Ninth)\n",
    "    \n",
    "    ChordProgressionHTML_List = \"\"\n",
    "    for Thing in FineChordChanges.ChordList:\n",
    "        ChordProgressionHTML_List += (str(FineChordChanges.ChordList.index(Thing)+1)+\n",
    "        \"&nbsp;&nbsp;&nbsp;&nbsp;<b>\"+(Thing.ChordName)+\" </b>&nbsp;&nbsp;&nbsp;&nbsp&nbsp;&nbsp;&nbsp;&nbsp;\"+\"Dur: \" \n",
    "        +str(Thing.ChordTime) +\"&nbsp;&nbsp;&nbsp;&nbsp;\"+\"Octave Range: \"+str(Thing.RangeLevel))+\"<br>\"\n",
    "\n",
    "    \n",
    "    ChordProgressionDisplay.value = ChordProgressionHTML_List\n",
    "    ChordListsBox = widgets.Box(children=[ChordProgressionDisplay])\n",
    "    \n",
    "    \n",
    "    \n",
    "        #update_idletasks\n",
    "#SFButtons.on_trait_change(on_SFButtons_toggle, 'value')\n",
    "SFButtons.observe(update_SFButtons, 'value')\n",
    "#y_widget.observe(update_x_range, 'value')\n",
    "\n",
    "\n",
    "\n",
    "HowLongChordBuild = widgets.BoundedFloatText(\n",
    "    value=1.0,\n",
    "    min=0.0,\n",
    "    max=25.0,\n",
    "    description='Chord Duration: (1-25)',)\n",
    "########################################################################\n",
    "NineGrid = widgets.ToggleButtons(\n",
    "    description='9th',\n",
    "    options=['Dim','Dom','Aug','None'],\n",
    "    value = 'None')\n",
    "\n",
    "SevGrid = widgets.ToggleButtons(\n",
    "    description='7th',\n",
    "    options=['Dim','Dom','Maj','None'],\n",
    "    value = 'None') \n",
    "\n",
    "FifthGrid = widgets.ToggleButtons(\n",
    "    description='5th',\n",
    "    options=['Dim','P5','Aug','None'],\n",
    "    value = 'None')   \n",
    "\n",
    "ThridGrid = widgets.ToggleButtons(\n",
    "    description='3rd',\n",
    "    options=['Min','Maj','P4','None'],\n",
    "    value = 'None')\n",
    "\n",
    "CombinedLookupName = ThridGrid.value+FifthGrid.value+SevGrid.value\n",
    "ChordDisplay_Name = (str(NoteList.value)+str(Chordbe4_9thDict.get(CombinedLookupName))+\n",
    "                    str(NinerTextDict.get(NineGrid.value)))\n",
    "# ChordGrid[0].value+Chordbe4_9thDict.get(self.NoteConcatno9)+NinerTextDict.get(self.Ninth)\n",
    "#PrintingChordNmDisplay = widgets.HTML(value=\"<em>Chord Name:\" <b>ChordDisplay_Name</b></em>)\n",
    "\n",
    "ChordNmDisplay = widgets.HTML(\n",
    "    value = \"Chord:\"+  ChordDisplay_Name\n",
    ")\n",
    "################################################################\n",
    "Location_ChordBuild = widgets.IntSlider(\n",
    "    value=len(FineChordChanges.ChordList)+1,\n",
    "    min=1,\n",
    "    max=len(FineChordChanges.ChordList)+1,\n",
    "    description='Location to Add',)\n",
    "\n",
    "def update_NineGrid(*args):\n",
    "    CombinedLookupName = ThridGrid.value+FifthGrid.value+SevGrid.value\n",
    "    ChordDisplay_Name = (str(NoteList.value)+str(Chordbe4_9thDict.get(CombinedLookupName))+\n",
    "                    str(NinerTextDict.get(NineGrid.value)))\n",
    "    ChordNmDisplay.value = \"Chord:\"+  ChordDisplay_Name\n",
    "NineGrid.observe(update_NineGrid,'value')\n",
    "#NineGrid.on_trait_change(on_NineGrid_toggle, 'value')\n",
    "#SFButtons.observe(update_SFButtons, 'value')\n",
    "\n",
    "def update_SevGrid(*args):\n",
    "    CombinedLookupName = ThridGrid.value+FifthGrid.value+SevGrid.value\n",
    "    ChordDisplay_Name = (str(NoteList.value)+str(Chordbe4_9thDict.get(CombinedLookupName))+\n",
    "                    str(NinerTextDict.get(NineGrid.value)))\n",
    "    ChordNmDisplay.value = \"Chord:\"+  ChordDisplay_Name\n",
    "SevGrid.observe(update_SevGrid,'value')\n",
    "\n",
    "def update_FifthGrid(*args):\n",
    "    CombinedLookupName = ThridGrid.value+FifthGrid.value+SevGrid.value\n",
    "    ChordDisplay_Name = (str(NoteList.value)+str(Chordbe4_9thDict.get(CombinedLookupName))+\n",
    "                    str(NinerTextDict.get(NineGrid.value)))\n",
    "    ChordNmDisplay.value = \"Chord:\"+  ChordDisplay_Name\n",
    "FifthGrid.observe(update_FifthGrid,'value')\n",
    "\n",
    "def update_ThridGrid(*args):\n",
    "    CombinedLookupName = ThridGrid.value+FifthGrid.value+SevGrid.value\n",
    "    ChordDisplay_Name = (str(NoteList.value)+str(Chordbe4_9thDict.get(CombinedLookupName))+\n",
    "                    str(NinerTextDict.get(NineGrid.value)))\n",
    "    ChordNmDisplay.value = \"Chord:\"+  ChordDisplay_Name\n",
    "ThridGrid.observe(update_ThridGrid,'value')\n",
    "\n",
    "def update_NoteList(*args):\n",
    "    CombinedLookupName = ThridGrid.value+FifthGrid.value+SevGrid.value\n",
    "    ChordDisplay_Name = (str(NoteList.value)+str(Chordbe4_9thDict.get(CombinedLookupName))+\n",
    "                    str(NinerTextDict.get(NineGrid.value)))\n",
    "    ChordNmDisplay.value = \"Chord:\"+  ChordDisplay_Name\n",
    "NoteList.observe(update_NoteList,'value')\n",
    "\n",
    "PlayChordButton = widgets.Button(\n",
    "    description='Play Chord',\n",
    "    width=30, # Integers are interpreted as pixel measurements.\n",
    "    height='2em', #em is valid HTML unit of measurement.\n",
    "    color='navy', #Colors can be set by name,\n",
    "    background_color='white', # and also by color code.\n",
    "    border_color='navy')\n",
    "\n",
    "def on_PlayChordButton_click(b):\n",
    "    #(self,ChordTime,RangeLevel,Root,Third,Fifth,Sev,Ninth,Associated_Progression='None')\n",
    "    GUI_Draft_Chord = Chord(HowLongChordBuild.value,OctaveChoice_ChordBuild.value,\n",
    "                            NoteList.value,ThridGrid.value,FifthGrid.value,SevGrid.value,NineGrid.value)\n",
    "    pygame.midi.init()\n",
    "    global player\n",
    "    player = pygame.midi.Output(1)\n",
    "\n",
    "    GUI_Draft_Chord.PlayChord()\n",
    "    \n",
    "\n",
    "    del player\n",
    "    pygame.midi.quit()\n",
    "    \n",
    "    #print(\"Button Has Been Clicked!\")\n",
    "    \n",
    "PlayChordButton.on_click(on_PlayChordButton_click)\n",
    "######\n",
    "\n",
    "AddtoProgressionButton = widgets.Button(\n",
    "    description='Add to Progression',\n",
    "    width=30, # Integers are interpreted as pixel measurements.\n",
    "    height='2em', #em is valid HTML unit of measurement.\n",
    "    color='Green', #Colors can be set by name,\n",
    "    background_color='white', # and also by color code.\n",
    "    border_color='Green')\n",
    "\n",
    "\n",
    "def on_AddtoProgressionButton_click(c):\n",
    "    #(self,ChordTime,RangeLevel,Root,Third,Fifth,Sev,Ninth,Associated_Progression='None')\n",
    "    GUI_Draft_Chord = Chord(HowLongChordBuild.value,OctaveChoice_ChordBuild.value,\n",
    "                            NoteList.value,ThridGrid.value,FifthGrid.value,SevGrid.value,NineGrid.value)\n",
    "    FineChordChanges.AddChordtoProgression(Location_ChordBuild.value-2,GUI_Draft_Chord)\n",
    "    \n",
    "    ChordProgressionHTML_List = \"\"\n",
    "    for Thing in FineChordChanges.ChordList:\n",
    "        ChordProgressionHTML_List += (str(FineChordChanges.ChordList.index(Thing)+1)+\n",
    "        \"&nbsp;&nbsp;&nbsp;&nbsp;<b>\"+(Thing.ChordName)+\" </b>&nbsp;&nbsp;&nbsp;&nbsp&nbsp;&nbsp;&nbsp;&nbsp;\"+\"Dur: \" \n",
    "        +str(Thing.ChordTime) +\"&nbsp;&nbsp;&nbsp;&nbsp;\"+\"Octave Range: \"+str(Thing.RangeLevel))+\"<br>\"\n",
    "\n",
    "    \n",
    "    ChordProgressionDisplay.value = ChordProgressionHTML_List\n",
    "    ChordListsBox = widgets.Box(children=[ChordProgressionDisplay])\n",
    "    \n",
    "    Location_ChordBuild.max = (len(FineChordChanges.ChordList)+1)\n",
    "    Location_ChordBuild.value = (len(FineChordChanges.ChordList)+1)\n",
    "    #print(\"Button Has Been Clicked!\")\n",
    "    Chord_to_Delete.value = len(FineChordChanges.ChordList)+1\n",
    "    Chord_to_Delete.max = len(FineChordChanges.ChordList)+1\n",
    "    \n",
    "    DelChordButton.visible = True\n",
    "    Chord_to_Delete.visible = True\n",
    "    RemoveALLChordsButton.visible = True\n",
    "    PlayProgButton.visible = True\n",
    "    RepeatingFactor.visible = True\n",
    "    \n",
    "    if len(FineChordChanges.ChordList) == 1:\n",
    "        DelChordButton.visible = False\n",
    "        Chord_to_Delete.visible = False\n",
    "    \n",
    "AddtoProgressionButton.on_click(on_AddtoProgressionButton_click)\n",
    "\n",
    "\n",
    "\n",
    "\n",
    "#container = widgets.Box(children=[float_range,string])\n",
    "\n",
    "ChordBox = widgets.Box(children=[ChordBuilderText,HowLongChordBuild,NineGrid,SevGrid,\n",
    "                                 FifthGrid,ThridGrid,NoteList,ChordNmDisplay,OctaveChoice_ChordBuild,\n",
    "                                 Location_ChordBuild,\n",
    "                                 PlayChordButton,AddtoProgressionButton])\n",
    "ChordBox.border_color = '#8BB381'\n",
    "ChordBox.border_style = 'solid'\n",
    "ChordBox.border_width = 8\n",
    "#display(container)\n",
    "\n",
    "\n",
    "\n",
    "\n",
    "\n",
    "\n",
    "#display(SFButtons)\n",
    "#display(ChordBox)\n",
    "#display(HowLongChordBuild,*ChordGrid)"
   ]
  },
  {
   "cell_type": "code",
   "execution_count": 26,
   "metadata": {
    "collapsed": false
   },
   "outputs": [],
   "source": [
    "ChordProgressionHTML_List = \"\"\n",
    "for Thing in FineChordChanges.ChordList:\n",
    "    ChordProgressionHTML_List += (str(FineChordChanges.ChordList.index(Thing)+1)+\n",
    "    \"&nbsp;&nbsp;&nbsp;&nbsp;<b>\"+(Thing.ChordName)+\" </b>&nbsp;&nbsp;&nbsp;&nbsp&nbsp;&nbsp;&nbsp;&nbsp;\"+\"Dur: \" \n",
    "    +str(Thing.ChordTime) +\"&nbsp;&nbsp;&nbsp;&nbsp;\"+\"Octave Range: \"+str(Thing.RangeLevel))+\"<br>\"\n",
    "\n",
    "ChordProgressionDisplay = widgets.HTML(value = ChordProgressionHTML_List)   \n",
    "\n",
    "\n",
    "#def __init__(self, Name,BaseTimeInterval,ChordList=[]):\n",
    "ChordListsBox = widgets.Box(children=[ChordProgressionDisplay])\n",
    "ChordListsBox.border_color = '#0C090A'\n",
    "ChordListsBox.border_width = 7\n",
    "\n",
    "PlayProgButton = widgets.Button(\n",
    "    description='Play Progression',\n",
    "    width=30, # Integers are interpreted as pixel measurements.\n",
    "    height='2em', #em is valid HTML unit of measurement.\n",
    "    color='green', #Colors can be set by name,\n",
    "    background_color='white', # and also by color code.\n",
    "    border_color='green')\n",
    "\n",
    "def on_PlayProgButton_click(b):\n",
    "    #(self,ChordTime,RangeLevel,Root,Third,Fifth,Sev,Ninth,Associated_Progression='None')\n",
    "   \n",
    "    pygame.midi.init()\n",
    "    global player\n",
    "    player = pygame.midi.Output(1)\n",
    "\n",
    "    \n",
    "    global FineChordChanges\n",
    "    FineChordChanges.Playchordprogression()\n",
    "    \n",
    "    del player\n",
    "    pygame.midi.quit()\n",
    "PlayProgButton.on_click(on_PlayProgButton_click)\n",
    "\n",
    "\n",
    "##################################################\n",
    "\n",
    "\n",
    "\n",
    "\n",
    "#########################################################\n",
    "global RepeatingFactor\n",
    "if FineChordChanges.ChordList != []:\n",
    "    RepeatingFactor = widgets.widget_int.BoundedIntText(\n",
    "        value=0,\n",
    "        min=0,\n",
    "        max=25,\n",
    "        description='Repeat (1-25):',\n",
    "        visible = True)\n",
    "else:\n",
    "    RepeatingFactor = widgets.widget_int.BoundedIntText(\n",
    "\n",
    "        visible = False)\n",
    "######################################\n",
    "def update_RepeatingFactor(*args):\n",
    "\n",
    "    FineChordChanges.how_many_plays = RepeatingFactor.value + 1\n",
    "    \n",
    "RepeatingFactor.observe(update_RepeatingFactor,'value')\n",
    "######################################\n",
    "HTMLSmallBuffer2 = widgets.HTML(value = \"<br><br>\") \n",
    "\n",
    "DelChordButton = widgets.Button(\n",
    "    description='Delete Chord',\n",
    "    width=30, # Integers are interpreted as pixel measurements.\n",
    "    height='2em', #em is valid HTML unit of measurement.\n",
    "    color='#C12267', #Colors can be set by name,\n",
    "    background_color='white', # and also by color code.\n",
    "    border_color='#C12267')\n",
    "\n",
    "global Chord_to_Delete\n",
    "\n",
    "\n",
    "if FineChordChanges.ChordList != []:\n",
    "    Chord_to_Delete = widgets.widget_int.BoundedIntText(\n",
    "        value=len(FineChordChanges.ChordList)+1,\n",
    "        min=1,\n",
    "        max=len(FineChordChanges.ChordList),\n",
    "        description='Index:',\n",
    "        visible = True)\n",
    "else:\n",
    "    Chord_to_Delete = widgets.widget_int.BoundedIntText(\n",
    "        value=0,\n",
    "        min=0,\n",
    "        max=0,\n",
    "        visible = False)\n",
    "    \n",
    "if FineChordChanges.ChordList != []:\n",
    "    Chord_to_Delete = widgets.widget_int.BoundedIntText(\n",
    "    value=0,\n",
    "    min=0,\n",
    "    max=0,\n",
    "    visible = False)\n",
    "    DelChordButton.visible = False\n",
    "    \n",
    "    \n",
    "\n",
    "        \n",
    "###########\n",
    "def on_DelChordButton_click(c):\n",
    "    global Chord_to_Delete\n",
    "    #(self,ChordTime,RangeLevel,Root,Third,Fifth,Sev,Ninth,Associated_Progression='None')\n",
    "    #GUI_Draft_Chord = Chord(HowLongChordBuild.value,OctaveChoice_ChordBuild.value,\n",
    "                            #NoteList.value,ThridGrid.value,FifthGrid.value,SevGrid.value,NineGrid.value)\n",
    "    #FineChordChanges.AddChordtoProgression(Location_ChordBuild.value-2,GUI_Draft_Chord)\n",
    "    FineChordChanges.RemoveChordFromProgression(Chord_to_Delete.value-1)\n",
    "    \n",
    "    #Chord_to_Delete = widgets.widget_int.BoundedIntText(\n",
    "    #value=len(FineChordChanges.ChordList)+1,\n",
    "    #min=1,\n",
    "    #max=len(FineChordChanges.ChordList),\n",
    "    #description='Index:',)\n",
    "    \n",
    "\n",
    "    \n",
    "    \n",
    "    ChordProgressionHTML_List = \"\"\n",
    "    for Thing in FineChordChanges.ChordList:\n",
    "        ChordProgressionHTML_List += (str(FineChordChanges.ChordList.index(Thing)+1)+\n",
    "        \"&nbsp;&nbsp;&nbsp;&nbsp;<b>\"+(Thing.ChordName)+\" </b>&nbsp;&nbsp;&nbsp;&nbsp&nbsp;&nbsp;&nbsp;&nbsp;\"+\"Dur: \" \n",
    "        +str(Thing.ChordTime) +\"&nbsp;&nbsp;&nbsp;&nbsp;\"+\"Octave Range: \"+str(Thing.RangeLevel))+\"<br>\"\n",
    "\n",
    "    \n",
    "    ChordProgressionDisplay.value = ChordProgressionHTML_List\n",
    "    ChordListsBox = widgets.Box(children=[ChordProgressionDisplay])\n",
    "    \n",
    "    Location_ChordBuild.max = (len(FineChordChanges.ChordList)+1)\n",
    "    Location_ChordBuild.value = (len(FineChordChanges.ChordList)+1)\n",
    "    #print(\"Button Has Been Clicked!\")\n",
    "    \n",
    "    Chord_to_Delete.value = len(FineChordChanges.ChordList)\n",
    "    Chord_to_Delete.max = len(FineChordChanges.ChordList)\n",
    "    \n",
    "    if len(FineChordChanges.ChordList) == 1:\n",
    "        DelChordButton.visible = False\n",
    "        Chord_to_Delete.visible = False\n",
    "\n",
    "DelChordButton.on_click(on_DelChordButton_click) \n",
    "\n",
    "\n",
    "\n",
    "\n",
    "\n",
    "#####################################\n",
    "\n",
    "HTMLBigBuffer6 = widgets.HTML(value = \"<br><br><br><br><br><br>\") \n",
    "\n",
    "RemoveALLChordsButton = widgets.Button(\n",
    "    description='Remove ALL Chords',\n",
    "    width=30, # Integers are interpreted as pixel measurements.\n",
    "    height='2em', #em is valid HTML unit of measurement.\n",
    "    color='#8C001A', #Colors can be set by name,\n",
    "    background_color='white', # and also by color code.\n",
    "    border_color='#8C001A')\n",
    "######################################\n",
    "def on_RemoveALLChordsButton_click(c):\n",
    "    global Chord_to_Delete\n",
    "    #(self,ChordTime,RangeLevel,Root,Third,Fifth,Sev,Ninth,Associated_Progression='None')\n",
    "    #GUI_Draft_Chord = Chord(HowLongChordBuild.value,OctaveChoice_ChordBuild.value,\n",
    "                            #NoteList.value,ThridGrid.value,FifthGrid.value,SevGrid.value,NineGrid.value)\n",
    "    #FineChordChanges.AddChordtoProgression(Location_ChordBuild.value-2,GUI_Draft_Chord)\n",
    "    FineChordChanges.ChordList = []\n",
    "    \n",
    "    #Chord_to_Delete = widgets.widget_int.BoundedIntText(\n",
    "    #value=len(FineChordChanges.ChordList)+1,\n",
    "    #min=1,\n",
    "    #max=len(FineChordChanges.ChordList),\n",
    "    #description='Index:',)\n",
    "    \n",
    "\n",
    "    \n",
    "    \n",
    "    ChordProgressionHTML_List = \"\"\n",
    "    for Thing in FineChordChanges.ChordList:\n",
    "        ChordProgressionHTML_List += (str(FineChordChanges.ChordList.index(Thing)+1)+\n",
    "        \"&nbsp;&nbsp;&nbsp;&nbsp;<b>\"+(Thing.ChordName)+\" </b>&nbsp;&nbsp;&nbsp;&nbsp&nbsp;&nbsp;&nbsp;&nbsp;\"+\"Dur: \" \n",
    "        +str(Thing.ChordTime) +\"&nbsp;&nbsp;&nbsp;&nbsp;\"+\"Octave Range: \"+str(Thing.RangeLevel))+\"<br>\"\n",
    "\n",
    "    \n",
    "    ChordProgressionDisplay.value = ChordProgressionHTML_List\n",
    "    ChordListsBox = widgets.Box(children=[ChordProgressionDisplay])\n",
    "    \n",
    "\n",
    "    \n",
    "    #Chord_to_Delete.value = len(FineChordChanges.ChordList)\n",
    "    #Chord_to_Delete.max = len(FineChordChanges.ChordList)\n",
    "    \n",
    "    DelChordButton.visible = False\n",
    "    Chord_to_Delete.visible = False\n",
    "    RemoveALLChordsButton.visible = False\n",
    "    PlayProgButton.visible = False\n",
    "    RepeatingFactor.visible = False\n",
    "    RepeatingFactor.value = 0\n",
    "    \n",
    "    \n",
    "    \n",
    "\n",
    "RemoveALLChordsButton.on_click(on_RemoveALLChordsButton_click) \n",
    "#################\n",
    "DeleteBox = widgets.Box(children=[HTMLSmallBuffer2,DelChordButton,Chord_to_Delete,HTMLBigBuffer6,RemoveALLChordsButton])\n",
    "DeleteBox.border_color = '#954535'\n",
    "DeleteBox.border_style = 'solid'\n",
    "DeleteBox.border_width = 2\n",
    "    \n",
    "ProgBox = widgets.Box(children=[ChordProgressionText,PlayProgButton,RepeatingFactor,ChordListsBox,DeleteBox])\n",
    "ProgBox.border_color = '#571B7E'\n",
    "ProgBox.border_style = 'solid'\n",
    "ProgBox.border_width = 10\n",
    "\n",
    "\n"
   ]
  },
  {
   "cell_type": "code",
   "execution_count": 27,
   "metadata": {
    "collapsed": false
   },
   "outputs": [],
   "source": [
    "display(GeneralSettingsBox)\n",
    "display(ChordBox)\n",
    "display(ProgBox)"
   ]
  },
  {
   "cell_type": "markdown",
   "metadata": {
    "collapsed": false
   },
   "source": [
    "for Chord in FineChordChanges.ChordList:\n",
    "    Chord.Root = SwitchtoSharpsDict.get(Chord.Root)\n",
    "    Chord.ChordName =  Chord.Root+Chordbe4_9thDict.get(Chord.NoteConcatno9)+NinerTextDict.get(Chord.Ninth)"
   ]
  },
  {
   "cell_type": "markdown",
   "metadata": {
    "collapsed": true
   },
   "source": [
    "for Chord in FineChordChanges.ChordList:\n",
    "    Chord.Root = SwitchtoFlatsDict.get(Chord.Root)\n",
    "    Chord.ChordName =  Chord.Root+Chordbe4_9thDict.get(Chord.NoteConcatno9)+NinerTextDict.get(Chord.Ninth)"
   ]
  },
  {
   "cell_type": "markdown",
   "metadata": {
    "collapsed": false
   },
   "source": [
    "x =0\n",
    "print FineChordChanges.ChordList[x].Root\n",
    "#NinerTextDict.get('Dom')\n",
    "#SwitchtoFlatsDict\n",
    "#SwitchtoSharpsDict \n",
    "\n",
    "print SwitchtoSharpsDict.get(FineChordChanges.ChordList[x].Root)\n",
    "print SwitchtoFlatsDict.get(SwitchtoSharpsDict.get(FineChordChanges.ChordList[x].Root))"
   ]
  },
  {
   "cell_type": "code",
   "execution_count": 28,
   "metadata": {
    "collapsed": false
   },
   "outputs": [
    {
     "name": "stdout",
     "output_type": "stream",
     "text": [
      "[{'Associated_Progression': <__main__.ChordProgression object at 0x000000000427BA58>,\n",
      "  'ChordName': 'CMaj',\n",
      "  'ChordTime': 1,\n",
      "  'Fifth': 'P5',\n",
      "  'FifthNum': 79,\n",
      "  'FifthON': 127,\n",
      "  'Ninth': 'None',\n",
      "  'NinthNum': 0,\n",
      "  'NinthOn': 1,\n",
      "  'NoteConcatno9': 'MajP5None',\n",
      "  'RangeLevel': 5,\n",
      "  'Root': 'C',\n",
      "  'RootNum': 72,\n",
      "  'RootOn': 127,\n",
      "  'Sev': 'None',\n",
      "  'SevNum': 0,\n",
      "  'SevOn': 1,\n",
      "  'Third': 'Maj',\n",
      "  'ThirdNum': 76,\n",
      "  'ThirdOn': 127}]\n"
     ]
    }
   ],
   "source": [
    "from pprint import pprint\n",
    "#pprint (vars(FineChordChanges.ChordList[0]))\n",
    "UndertheHood = [(vars(FineChordChanges.ChordList[0])) for x in FineChordChanges.ChordList]\n",
    "pprint (UndertheHood)"
   ]
  },
  {
   "cell_type": "markdown",
   "metadata": {
    "collapsed": false
   },
   "source": [
    "ChordProgressionHTML_List = \"\"\n",
    "for Thing in FineChordChanges.ChordList:\n",
    "    ChordProgressionHTML_List += (str(FineChordChanges.ChordList.index(Thing)+1)+\n",
    "    \"&nbsp;&nbsp;&nbsp;&nbsp;<b>\"+(Thing.ChordName)+\" </b>&nbsp;&nbsp;&nbsp;&nbsp&nbsp;&nbsp;&nbsp;&nbsp;\"+\"Dur: \" \n",
    "    +str(Thing.ChordTime) +\"&nbsp;&nbsp;&nbsp;&nbsp;\"+\"Octave Range: \"+str(Thing.RangeLevel))+\"<br>\"\n",
    "\n",
    "ChordProgressionDisplay = widgets.HTML(value = ChordProgressionHTML_List)   \n",
    "\n",
    "display(ChordProgressionDisplay)"
   ]
  }
 ],
 "metadata": {
  "kernelspec": {
   "display_name": "Python 2",
   "language": "python",
   "name": "python2"
  },
  "language_info": {
   "codemirror_mode": {
    "name": "ipython",
    "version": 2
   },
   "file_extension": ".py",
   "mimetype": "text/x-python",
   "name": "python",
   "nbconvert_exporter": "python",
   "pygments_lexer": "ipython2",
   "version": "2.7.11"
  }
 },
 "nbformat": 4,
 "nbformat_minor": 0
}
